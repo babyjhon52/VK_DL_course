{
  "cells": [
    {
      "cell_type": "code",
      "execution_count": null,
      "metadata": {
        "id": "KB3uO9UpB9d7"
      },
      "outputs": [],
      "source": []
    },
    {
      "cell_type": "markdown",
      "metadata": {
        "id": "sxEhTuw_vyPU"
      },
      "source": [
        "# Практика"
      ]
    },
    {
      "cell_type": "code",
      "execution_count": null,
      "metadata": {
        "id": "uckahO17vs0e"
      },
      "outputs": [],
      "source": [
        "import numpy as np\n",
        "\n",
        "class Linear:\n",
        "    def __init__(self, input_size, output_size):\n",
        "        '''\n",
        "        Creates weights and biases for linear layer.\n",
        "        Dimention of inputs is *input_size*, of output: *output_size*.\n",
        "        '''\n",
        "        #### YOUR CODE HERE\n",
        "        #### Create weights, initialize them with samples from N(0, 0.1).\n",
        "        pass\n",
        "\n",
        "    def forward(self, X):\n",
        "        '''\n",
        "        Passes objects through this layer.\n",
        "        X is np.array of size (N, input_size).\n",
        "        Returns output of size (N, output_size).\n",
        "        Hint: You may need to store X for backward pass\n",
        "        '''\n",
        "        pass\n",
        "\n",
        "    def backward(self, dLdy):\n",
        "        '''\n",
        "        1. Compute dLdw and dLdx.\n",
        "        2. Store dLdw for step() call\n",
        "        3. Return dLdx\n",
        "        '''\n",
        "        pass\n",
        "\n",
        "    def step(self, learning_rate):\n",
        "        '''\n",
        "        1. Apply gradient dLdw to network:\n",
        "        w <- w - learning_rate*dLdw\n",
        "        '''\n",
        "        pass\n",
        "\n",
        "class Sigmoid:\n",
        "    def __init__(self):\n",
        "        pass\n",
        "\n",
        "    def forward(self, X):\n",
        "        '''\n",
        "        Passes objects through this layer.\n",
        "        X is np.array of size (N, d)\n",
        "        '''\n",
        "        pass\n",
        "\n",
        "    def backward(self, dLdy):\n",
        "        '''\n",
        "        1. Compute dLdx.\n",
        "        2. Return dLdx\n",
        "        '''\n",
        "        pass\n",
        "\n",
        "    def step(self, learning_rate):\n",
        "        pass\n",
        "\n",
        "class NLLLoss:\n",
        "    def __init__(self):\n",
        "        '''\n",
        "        Applies Softmax operation to inputs and computes NLL loss\n",
        "        '''\n",
        "        pass\n",
        "\n",
        "    def forward(self, X, y):\n",
        "        '''\n",
        "        Passes objects through this layer.\n",
        "        X is np.array of size (N, C), where C is the number of classes\n",
        "        y is np.array of size (N), contains correct labels\n",
        "        '''\n",
        "        pass\n",
        "\n",
        "    def backward(self):\n",
        "        '''\n",
        "        Note that here dLdy = 1 since L = y\n",
        "        1. Compute dLdx\n",
        "        2. Return dLdx\n",
        "        '''\n",
        "        pass\n",
        "\n",
        "\n",
        "class NeuralNetwork:\n",
        "    def __init__(self, modules):\n",
        "        '''\n",
        "        Constructs network with *modules* as its layers\n",
        "        '''\n",
        "        self.modules = modules\n",
        "\n",
        "    def forward(self, X):\n",
        "        pass\n",
        "\n",
        "    def backward(self, dLdy):\n",
        "        '''\n",
        "        dLdy here is a gradient from loss function\n",
        "        '''\n",
        "        pass\n",
        "\n",
        "    def step(self, learning_rate):\n",
        "        pass\n"
      ]
    }
  ],
  "metadata": {
    "colab": {
      "provenance": []
    },
    "kernelspec": {
      "display_name": "Python 3",
      "name": "python3"
    },
    "language_info": {
      "name": "python"
    }
  },
  "nbformat": 4,
  "nbformat_minor": 0
}
