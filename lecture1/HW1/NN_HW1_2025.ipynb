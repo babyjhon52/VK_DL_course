{
  "cells": [
    {
      "cell_type": "markdown",
      "id": "YfPhAJr3jOkh",
      "metadata": {
        "id": "YfPhAJr3jOkh"
      },
      "source": [
        "# HW 1"
      ]
    },
    {
      "cell_type": "code",
      "execution_count": 1,
      "id": "8cc148dc-d83d-4c32-bbb0-3ffd82ba4e98",
      "metadata": {
        "id": "8cc148dc-d83d-4c32-bbb0-3ffd82ba4e98"
      },
      "outputs": [],
      "source": [
        "import numpy as np\n",
        "import pandas as pd\n",
        "import matplotlib.pyplot as plt\n",
        "\n",
        "from sklearn.linear_model import LinearRegression\n",
        "from sklearn.model_selection import train_test_split\n",
        "from sklearn.metrics import r2_score\n",
        "from sklearn.preprocessing import MinMaxScaler\n",
        "\n",
        "%matplotlib inline"
      ]
    },
    {
      "cell_type": "markdown",
      "id": "e3a06e1e-3bc0-4667-84f3-7e86698c3737",
      "metadata": {
        "id": "e3a06e1e-3bc0-4667-84f3-7e86698c3737"
      },
      "source": [
        "# Загружаем выборку Diamonds"
      ]
    },
    {
      "cell_type": "markdown",
      "id": "sI-cvLDCjsua",
      "metadata": {
        "id": "sI-cvLDCjsua"
      },
      "source": [
        "На данной выборке можно проверять работоспособность своего решения"
      ]
    },
    {
      "cell_type": "markdown",
      "id": "c731a143-3dc9-43e7-96f5-b1eff9093345",
      "metadata": {
        "id": "c731a143-3dc9-43e7-96f5-b1eff9093345"
      },
      "source": [
        "1. PRICE: price in US dollars (326-18,823)\n",
        "2. CARAT: weight of the diamond (0.2--5.01)\n",
        "3. CUT: quality of the cut (Fair, Good, Very Good, Premium, Ideal)\n",
        "4. COLOR: diamond colour, from J (worst) to D (best)\n",
        "5. CLARITY: a measurement of how clear the diamond is (I1 (worst), SI2, SI1, VS2, VS1, VVS2, VVS1, IF (best))\n",
        "6. X: length in mm (0--10.74)\n",
        "7. Y: width in mm (0--58.9)\n",
        "8. Z: depth in mm (0--31.8)\n",
        "9. DEPTH: total depth percentage = z / mean(x, y) = 2 * z / (x + y) (43--79)\n",
        "10. TABLE: width of top of diamond relative to widest point (43--95)"
      ]
    },
    {
      "cell_type": "code",
      "execution_count": 2,
      "id": "0f24cf86-653a-422b-9df1-8029fdccf153",
      "metadata": {
        "id": "0f24cf86-653a-422b-9df1-8029fdccf153"
      },
      "outputs": [],
      "source": [
        "diamonds_df = pd.read_csv('diamonds.csv')"
      ]
    },
    {
      "cell_type": "code",
      "execution_count": 3,
      "id": "70d9ccfe-e1cf-4c90-a5ab-40ae0852f1ce",
      "metadata": {
        "colab": {
          "base_uri": "https://localhost:8080/",
          "height": 204
        },
        "id": "70d9ccfe-e1cf-4c90-a5ab-40ae0852f1ce",
        "outputId": "48caecef-fcb9-440b-dd8b-3e4189ff9708"
      },
      "outputs": [
        {
          "data": {
            "application/vnd.google.colaboratory.intrinsic+json": {
              "summary": "{\n  \"name\": \"diamonds_df\",\n  \"rows\": 53940,\n  \"fields\": [\n    {\n      \"column\": \"Unnamed: 0\",\n      \"properties\": {\n        \"dtype\": \"number\",\n        \"std\": 15571,\n        \"min\": 1,\n        \"max\": 53940,\n        \"num_unique_values\": 53940,\n        \"samples\": [\n          1389,\n          50053,\n          41646\n        ],\n        \"semantic_type\": \"\",\n        \"description\": \"\"\n      }\n    },\n    {\n      \"column\": \"carat\",\n      \"properties\": {\n        \"dtype\": \"number\",\n        \"std\": 0.47401124440538067,\n        \"min\": 0.2,\n        \"max\": 5.01,\n        \"num_unique_values\": 273,\n        \"samples\": [\n          0.77,\n          1.58,\n          0.65\n        ],\n        \"semantic_type\": \"\",\n        \"description\": \"\"\n      }\n    },\n    {\n      \"column\": \"cut\",\n      \"properties\": {\n        \"dtype\": \"category\",\n        \"num_unique_values\": 5,\n        \"samples\": [\n          \"Premium\",\n          \"Fair\",\n          \"Good\"\n        ],\n        \"semantic_type\": \"\",\n        \"description\": \"\"\n      }\n    },\n    {\n      \"column\": \"color\",\n      \"properties\": {\n        \"dtype\": \"category\",\n        \"num_unique_values\": 7,\n        \"samples\": [\n          \"E\",\n          \"I\",\n          \"G\"\n        ],\n        \"semantic_type\": \"\",\n        \"description\": \"\"\n      }\n    },\n    {\n      \"column\": \"clarity\",\n      \"properties\": {\n        \"dtype\": \"category\",\n        \"num_unique_values\": 8,\n        \"samples\": [\n          \"SI1\",\n          \"VVS1\",\n          \"SI2\"\n        ],\n        \"semantic_type\": \"\",\n        \"description\": \"\"\n      }\n    },\n    {\n      \"column\": \"depth\",\n      \"properties\": {\n        \"dtype\": \"number\",\n        \"std\": 1.4326213188337733,\n        \"min\": 43.0,\n        \"max\": 79.0,\n        \"num_unique_values\": 184,\n        \"samples\": [\n          61.0,\n          62.9,\n          70.2\n        ],\n        \"semantic_type\": \"\",\n        \"description\": \"\"\n      }\n    },\n    {\n      \"column\": \"table\",\n      \"properties\": {\n        \"dtype\": \"number\",\n        \"std\": 2.234490562820938,\n        \"min\": 43.0,\n        \"max\": 95.0,\n        \"num_unique_values\": 127,\n        \"samples\": [\n          54.8,\n          61.5,\n          57.6\n        ],\n        \"semantic_type\": \"\",\n        \"description\": \"\"\n      }\n    },\n    {\n      \"column\": \"price\",\n      \"properties\": {\n        \"dtype\": \"number\",\n        \"std\": 3989,\n        \"min\": 326,\n        \"max\": 18823,\n        \"num_unique_values\": 11602,\n        \"samples\": [\n          16368,\n          895,\n          748\n        ],\n        \"semantic_type\": \"\",\n        \"description\": \"\"\n      }\n    },\n    {\n      \"column\": \"x\",\n      \"properties\": {\n        \"dtype\": \"number\",\n        \"std\": 1.1217607467924422,\n        \"min\": 0.0,\n        \"max\": 10.74,\n        \"num_unique_values\": 554,\n        \"samples\": [\n          5.88,\n          5.69,\n          4.61\n        ],\n        \"semantic_type\": \"\",\n        \"description\": \"\"\n      }\n    },\n    {\n      \"column\": \"y\",\n      \"properties\": {\n        \"dtype\": \"number\",\n        \"std\": 1.1421346741235396,\n        \"min\": 0.0,\n        \"max\": 58.9,\n        \"num_unique_values\": 552,\n        \"samples\": [\n          5.33,\n          5.61,\n          5.25\n        ],\n        \"semantic_type\": \"\",\n        \"description\": \"\"\n      }\n    },\n    {\n      \"column\": \"z\",\n      \"properties\": {\n        \"dtype\": \"number\",\n        \"std\": 0.7056988469499964,\n        \"min\": 0.0,\n        \"max\": 31.8,\n        \"num_unique_values\": 375,\n        \"samples\": [\n          3.36,\n          2.45,\n          2.7\n        ],\n        \"semantic_type\": \"\",\n        \"description\": \"\"\n      }\n    }\n  ]\n}",
              "type": "dataframe",
              "variable_name": "diamonds_df"
            },
            "text/html": [
              "\n",
              "  <div id=\"df-4e2cfef8-5ab5-478f-91e1-01da05e06bbd\" class=\"colab-df-container\">\n",
              "    <div>\n",
              "<style scoped>\n",
              "    .dataframe tbody tr th:only-of-type {\n",
              "        vertical-align: middle;\n",
              "    }\n",
              "\n",
              "    .dataframe tbody tr th {\n",
              "        vertical-align: top;\n",
              "    }\n",
              "\n",
              "    .dataframe thead th {\n",
              "        text-align: right;\n",
              "    }\n",
              "</style>\n",
              "<table border=\"1\" class=\"dataframe\">\n",
              "  <thead>\n",
              "    <tr style=\"text-align: right;\">\n",
              "      <th></th>\n",
              "      <th>Unnamed: 0</th>\n",
              "      <th>carat</th>\n",
              "      <th>cut</th>\n",
              "      <th>color</th>\n",
              "      <th>clarity</th>\n",
              "      <th>depth</th>\n",
              "      <th>table</th>\n",
              "      <th>price</th>\n",
              "      <th>x</th>\n",
              "      <th>y</th>\n",
              "      <th>z</th>\n",
              "    </tr>\n",
              "  </thead>\n",
              "  <tbody>\n",
              "    <tr>\n",
              "      <th>0</th>\n",
              "      <td>1</td>\n",
              "      <td>0.23</td>\n",
              "      <td>Ideal</td>\n",
              "      <td>E</td>\n",
              "      <td>SI2</td>\n",
              "      <td>61.5</td>\n",
              "      <td>55.0</td>\n",
              "      <td>326</td>\n",
              "      <td>3.95</td>\n",
              "      <td>3.98</td>\n",
              "      <td>2.43</td>\n",
              "    </tr>\n",
              "    <tr>\n",
              "      <th>1</th>\n",
              "      <td>2</td>\n",
              "      <td>0.21</td>\n",
              "      <td>Premium</td>\n",
              "      <td>E</td>\n",
              "      <td>SI1</td>\n",
              "      <td>59.8</td>\n",
              "      <td>61.0</td>\n",
              "      <td>326</td>\n",
              "      <td>3.89</td>\n",
              "      <td>3.84</td>\n",
              "      <td>2.31</td>\n",
              "    </tr>\n",
              "    <tr>\n",
              "      <th>2</th>\n",
              "      <td>3</td>\n",
              "      <td>0.23</td>\n",
              "      <td>Good</td>\n",
              "      <td>E</td>\n",
              "      <td>VS1</td>\n",
              "      <td>56.9</td>\n",
              "      <td>65.0</td>\n",
              "      <td>327</td>\n",
              "      <td>4.05</td>\n",
              "      <td>4.07</td>\n",
              "      <td>2.31</td>\n",
              "    </tr>\n",
              "    <tr>\n",
              "      <th>3</th>\n",
              "      <td>4</td>\n",
              "      <td>0.29</td>\n",
              "      <td>Premium</td>\n",
              "      <td>I</td>\n",
              "      <td>VS2</td>\n",
              "      <td>62.4</td>\n",
              "      <td>58.0</td>\n",
              "      <td>334</td>\n",
              "      <td>4.20</td>\n",
              "      <td>4.23</td>\n",
              "      <td>2.63</td>\n",
              "    </tr>\n",
              "    <tr>\n",
              "      <th>4</th>\n",
              "      <td>5</td>\n",
              "      <td>0.31</td>\n",
              "      <td>Good</td>\n",
              "      <td>J</td>\n",
              "      <td>SI2</td>\n",
              "      <td>63.3</td>\n",
              "      <td>58.0</td>\n",
              "      <td>335</td>\n",
              "      <td>4.34</td>\n",
              "      <td>4.35</td>\n",
              "      <td>2.75</td>\n",
              "    </tr>\n",
              "  </tbody>\n",
              "</table>\n",
              "</div>\n",
              "    <div class=\"colab-df-buttons\">\n",
              "\n",
              "  <div class=\"colab-df-container\">\n",
              "    <button class=\"colab-df-convert\" onclick=\"convertToInteractive('df-4e2cfef8-5ab5-478f-91e1-01da05e06bbd')\"\n",
              "            title=\"Convert this dataframe to an interactive table.\"\n",
              "            style=\"display:none;\">\n",
              "\n",
              "  <svg xmlns=\"http://www.w3.org/2000/svg\" height=\"24px\" viewBox=\"0 -960 960 960\">\n",
              "    <path d=\"M120-120v-720h720v720H120Zm60-500h600v-160H180v160Zm220 220h160v-160H400v160Zm0 220h160v-160H400v160ZM180-400h160v-160H180v160Zm440 0h160v-160H620v160ZM180-180h160v-160H180v160Zm440 0h160v-160H620v160Z\"/>\n",
              "  </svg>\n",
              "    </button>\n",
              "\n",
              "  <style>\n",
              "    .colab-df-container {\n",
              "      display:flex;\n",
              "      gap: 12px;\n",
              "    }\n",
              "\n",
              "    .colab-df-convert {\n",
              "      background-color: #E8F0FE;\n",
              "      border: none;\n",
              "      border-radius: 50%;\n",
              "      cursor: pointer;\n",
              "      display: none;\n",
              "      fill: #1967D2;\n",
              "      height: 32px;\n",
              "      padding: 0 0 0 0;\n",
              "      width: 32px;\n",
              "    }\n",
              "\n",
              "    .colab-df-convert:hover {\n",
              "      background-color: #E2EBFA;\n",
              "      box-shadow: 0px 1px 2px rgba(60, 64, 67, 0.3), 0px 1px 3px 1px rgba(60, 64, 67, 0.15);\n",
              "      fill: #174EA6;\n",
              "    }\n",
              "\n",
              "    .colab-df-buttons div {\n",
              "      margin-bottom: 4px;\n",
              "    }\n",
              "\n",
              "    [theme=dark] .colab-df-convert {\n",
              "      background-color: #3B4455;\n",
              "      fill: #D2E3FC;\n",
              "    }\n",
              "\n",
              "    [theme=dark] .colab-df-convert:hover {\n",
              "      background-color: #434B5C;\n",
              "      box-shadow: 0px 1px 3px 1px rgba(0, 0, 0, 0.15);\n",
              "      filter: drop-shadow(0px 1px 2px rgba(0, 0, 0, 0.3));\n",
              "      fill: #FFFFFF;\n",
              "    }\n",
              "  </style>\n",
              "\n",
              "    <script>\n",
              "      const buttonEl =\n",
              "        document.querySelector('#df-4e2cfef8-5ab5-478f-91e1-01da05e06bbd button.colab-df-convert');\n",
              "      buttonEl.style.display =\n",
              "        google.colab.kernel.accessAllowed ? 'block' : 'none';\n",
              "\n",
              "      async function convertToInteractive(key) {\n",
              "        const element = document.querySelector('#df-4e2cfef8-5ab5-478f-91e1-01da05e06bbd');\n",
              "        const dataTable =\n",
              "          await google.colab.kernel.invokeFunction('convertToInteractive',\n",
              "                                                    [key], {});\n",
              "        if (!dataTable) return;\n",
              "\n",
              "        const docLinkHtml = 'Like what you see? Visit the ' +\n",
              "          '<a target=\"_blank\" href=https://colab.research.google.com/notebooks/data_table.ipynb>data table notebook</a>'\n",
              "          + ' to learn more about interactive tables.';\n",
              "        element.innerHTML = '';\n",
              "        dataTable['output_type'] = 'display_data';\n",
              "        await google.colab.output.renderOutput(dataTable, element);\n",
              "        const docLink = document.createElement('div');\n",
              "        docLink.innerHTML = docLinkHtml;\n",
              "        element.appendChild(docLink);\n",
              "      }\n",
              "    </script>\n",
              "  </div>\n",
              "\n",
              "\n",
              "    <div id=\"df-0df8d10d-395e-41a7-8c3e-0d5ea6d79632\">\n",
              "      <button class=\"colab-df-quickchart\" onclick=\"quickchart('df-0df8d10d-395e-41a7-8c3e-0d5ea6d79632')\"\n",
              "                title=\"Suggest charts\"\n",
              "                style=\"display:none;\">\n",
              "\n",
              "<svg xmlns=\"http://www.w3.org/2000/svg\" height=\"24px\"viewBox=\"0 0 24 24\"\n",
              "     width=\"24px\">\n",
              "    <g>\n",
              "        <path d=\"M19 3H5c-1.1 0-2 .9-2 2v14c0 1.1.9 2 2 2h14c1.1 0 2-.9 2-2V5c0-1.1-.9-2-2-2zM9 17H7v-7h2v7zm4 0h-2V7h2v10zm4 0h-2v-4h2v4z\"/>\n",
              "    </g>\n",
              "</svg>\n",
              "      </button>\n",
              "\n",
              "<style>\n",
              "  .colab-df-quickchart {\n",
              "      --bg-color: #E8F0FE;\n",
              "      --fill-color: #1967D2;\n",
              "      --hover-bg-color: #E2EBFA;\n",
              "      --hover-fill-color: #174EA6;\n",
              "      --disabled-fill-color: #AAA;\n",
              "      --disabled-bg-color: #DDD;\n",
              "  }\n",
              "\n",
              "  [theme=dark] .colab-df-quickchart {\n",
              "      --bg-color: #3B4455;\n",
              "      --fill-color: #D2E3FC;\n",
              "      --hover-bg-color: #434B5C;\n",
              "      --hover-fill-color: #FFFFFF;\n",
              "      --disabled-bg-color: #3B4455;\n",
              "      --disabled-fill-color: #666;\n",
              "  }\n",
              "\n",
              "  .colab-df-quickchart {\n",
              "    background-color: var(--bg-color);\n",
              "    border: none;\n",
              "    border-radius: 50%;\n",
              "    cursor: pointer;\n",
              "    display: none;\n",
              "    fill: var(--fill-color);\n",
              "    height: 32px;\n",
              "    padding: 0;\n",
              "    width: 32px;\n",
              "  }\n",
              "\n",
              "  .colab-df-quickchart:hover {\n",
              "    background-color: var(--hover-bg-color);\n",
              "    box-shadow: 0 1px 2px rgba(60, 64, 67, 0.3), 0 1px 3px 1px rgba(60, 64, 67, 0.15);\n",
              "    fill: var(--button-hover-fill-color);\n",
              "  }\n",
              "\n",
              "  .colab-df-quickchart-complete:disabled,\n",
              "  .colab-df-quickchart-complete:disabled:hover {\n",
              "    background-color: var(--disabled-bg-color);\n",
              "    fill: var(--disabled-fill-color);\n",
              "    box-shadow: none;\n",
              "  }\n",
              "\n",
              "  .colab-df-spinner {\n",
              "    border: 2px solid var(--fill-color);\n",
              "    border-color: transparent;\n",
              "    border-bottom-color: var(--fill-color);\n",
              "    animation:\n",
              "      spin 1s steps(1) infinite;\n",
              "  }\n",
              "\n",
              "  @keyframes spin {\n",
              "    0% {\n",
              "      border-color: transparent;\n",
              "      border-bottom-color: var(--fill-color);\n",
              "      border-left-color: var(--fill-color);\n",
              "    }\n",
              "    20% {\n",
              "      border-color: transparent;\n",
              "      border-left-color: var(--fill-color);\n",
              "      border-top-color: var(--fill-color);\n",
              "    }\n",
              "    30% {\n",
              "      border-color: transparent;\n",
              "      border-left-color: var(--fill-color);\n",
              "      border-top-color: var(--fill-color);\n",
              "      border-right-color: var(--fill-color);\n",
              "    }\n",
              "    40% {\n",
              "      border-color: transparent;\n",
              "      border-right-color: var(--fill-color);\n",
              "      border-top-color: var(--fill-color);\n",
              "    }\n",
              "    60% {\n",
              "      border-color: transparent;\n",
              "      border-right-color: var(--fill-color);\n",
              "    }\n",
              "    80% {\n",
              "      border-color: transparent;\n",
              "      border-right-color: var(--fill-color);\n",
              "      border-bottom-color: var(--fill-color);\n",
              "    }\n",
              "    90% {\n",
              "      border-color: transparent;\n",
              "      border-bottom-color: var(--fill-color);\n",
              "    }\n",
              "  }\n",
              "</style>\n",
              "\n",
              "      <script>\n",
              "        async function quickchart(key) {\n",
              "          const quickchartButtonEl =\n",
              "            document.querySelector('#' + key + ' button');\n",
              "          quickchartButtonEl.disabled = true;  // To prevent multiple clicks.\n",
              "          quickchartButtonEl.classList.add('colab-df-spinner');\n",
              "          try {\n",
              "            const charts = await google.colab.kernel.invokeFunction(\n",
              "                'suggestCharts', [key], {});\n",
              "          } catch (error) {\n",
              "            console.error('Error during call to suggestCharts:', error);\n",
              "          }\n",
              "          quickchartButtonEl.classList.remove('colab-df-spinner');\n",
              "          quickchartButtonEl.classList.add('colab-df-quickchart-complete');\n",
              "        }\n",
              "        (() => {\n",
              "          let quickchartButtonEl =\n",
              "            document.querySelector('#df-0df8d10d-395e-41a7-8c3e-0d5ea6d79632 button');\n",
              "          quickchartButtonEl.style.display =\n",
              "            google.colab.kernel.accessAllowed ? 'block' : 'none';\n",
              "        })();\n",
              "      </script>\n",
              "    </div>\n",
              "    </div>\n",
              "  </div>\n"
            ],
            "text/plain": [
              "   Unnamed: 0  carat      cut color clarity  depth  table  price     x     y  \\\n",
              "0           1   0.23    Ideal     E     SI2   61.5   55.0    326  3.95  3.98   \n",
              "1           2   0.21  Premium     E     SI1   59.8   61.0    326  3.89  3.84   \n",
              "2           3   0.23     Good     E     VS1   56.9   65.0    327  4.05  4.07   \n",
              "3           4   0.29  Premium     I     VS2   62.4   58.0    334  4.20  4.23   \n",
              "4           5   0.31     Good     J     SI2   63.3   58.0    335  4.34  4.35   \n",
              "\n",
              "      z  \n",
              "0  2.43  \n",
              "1  2.31  \n",
              "2  2.31  \n",
              "3  2.63  \n",
              "4  2.75  "
            ]
          },
          "execution_count": 3,
          "metadata": {},
          "output_type": "execute_result"
        }
      ],
      "source": [
        "diamonds_df.head()"
      ]
    },
    {
      "cell_type": "code",
      "execution_count": 4,
      "id": "fad21c95-f542-44ec-8f06-8f57fd42ddef",
      "metadata": {
        "colab": {
          "base_uri": "https://localhost:8080/",
          "height": 430
        },
        "id": "fad21c95-f542-44ec-8f06-8f57fd42ddef",
        "outputId": "cda66a09-590c-45b0-9ed1-1699bfddaaf9"
      },
      "outputs": [
        {
          "data": {
            "image/png": "[encoded data removed]",
            "text/plain": [
              "<Figure size 640x480 with 1 Axes>"
            ]
          },
          "metadata": {},
          "output_type": "display_data"
        }
      ],
      "source": [
        "plt.hist(diamonds_df['price'], bins=100)\n",
        "plt.grid();"
      ]
    },
    {
      "cell_type": "markdown",
      "id": "17ac44bb-86c7-424a-8b9b-0a21bf490683",
      "metadata": {
        "id": "17ac44bb-86c7-424a-8b9b-0a21bf490683"
      },
      "source": [
        "# Подготовка данных"
      ]
    },
    {
      "cell_type": "code",
      "execution_count": 5,
      "id": "e19945ea-cecf-481e-a28b-3f9c11001918",
      "metadata": {
        "id": "e19945ea-cecf-481e-a28b-3f9c11001918"
      },
      "outputs": [],
      "source": [
        "features = ['carat', 'cut', 'color', 'clarity', 'depth', 'table', 'x', 'y', 'z']\n",
        "target = ['price']"
      ]
    },
    {
      "cell_type": "code",
      "execution_count": 6,
      "id": "fbc43eb0-e77f-4765-8b0e-b9052c093855",
      "metadata": {
        "id": "fbc43eb0-e77f-4765-8b0e-b9052c093855"
      },
      "outputs": [],
      "source": [
        "cut_transform = {'Fair': 0, 'Good': 1, 'Very Good': 2, 'Premium': 3, 'Ideal': 4}\n",
        "clarity_transform = {'I1': 0, 'SI2': 1, 'SI1': 2, 'VS2': 3, 'VS1': 4, 'VVS2': 5, 'VVS1': 6, 'IF': 7}\n",
        "color_transorm = {'D': 0, 'E': 1, 'F': 2, 'G': 3, 'H': 4, 'I': 5, 'J': 6}"
      ]
    },
    {
      "cell_type": "code",
      "execution_count": 7,
      "id": "6f82b34f-9ffc-478f-a103-b2cbbca49a94",
      "metadata": {
        "id": "6f82b34f-9ffc-478f-a103-b2cbbca49a94"
      },
      "outputs": [],
      "source": [
        "diamonds_df['cut'] = diamonds_df['cut'].apply(lambda x: cut_transform.get(x))\n",
        "diamonds_df['color'] = diamonds_df['color'].apply(lambda x: color_transorm.get(x))\n",
        "diamonds_df['clarity'] = diamonds_df['clarity'].apply(lambda x: clarity_transform.get(x))"
      ]
    },
    {
      "cell_type": "code",
      "execution_count": 8,
      "id": "8e5fa82b-92ed-4e79-adf2-422204b45e82",
      "metadata": {
        "id": "8e5fa82b-92ed-4e79-adf2-422204b45e82"
      },
      "outputs": [],
      "source": [
        "X = diamonds_df[features].copy().values\n",
        "y = diamonds_df[target].values"
      ]
    },
    {
      "cell_type": "code",
      "execution_count": 9,
      "id": "64c11d68-dc5c-4753-9cc4-3cc4e136f3cb",
      "metadata": {
        "id": "64c11d68-dc5c-4753-9cc4-3cc4e136f3cb"
      },
      "outputs": [],
      "source": [
        "X_train, X_test, y_train, y_test = train_test_split(X, y, random_state=47, test_size=0.3)"
      ]
    },
    {
      "cell_type": "code",
      "execution_count": 10,
      "id": "rGU9tSuwk3Lp",
      "metadata": {
        "id": "rGU9tSuwk3Lp"
      },
      "outputs": [],
      "source": [
        "scaler = MinMaxScaler()\n",
        "X_train = scaler.fit_transform(X_train)\n",
        "X_test = scaler.transform(X_test)"
      ]
    },
    {
      "cell_type": "markdown",
      "id": "3b743ed1-d0cf-485d-b8f2-8c71fc174e8b",
      "metadata": {
        "id": "3b743ed1-d0cf-485d-b8f2-8c71fc174e8b"
      },
      "source": [
        "# Обучаем модель линейной регрессии"
      ]
    },
    {
      "cell_type": "code",
      "execution_count": 12,
      "id": "3N2iJEIuxW0H",
      "metadata": {
        "id": "3N2iJEIuxW0H"
      },
      "outputs": [],
      "source": [
        "reg = LinearRegression().fit(X_train, y_train)"
      ]
    },
    {
      "cell_type": "code",
      "execution_count": 13,
      "id": "f968e336-4049-41b2-81d1-4c24f0969bbb",
      "metadata": {
        "id": "f968e336-4049-41b2-81d1-4c24f0969bbb"
      },
      "outputs": [],
      "source": [
        "y_pred = reg.predict(X_test)"
      ]
    },
    {
      "cell_type": "code",
      "execution_count": 14,
      "id": "0952990a-b3d6-4da4-9cc6-1ab3a7a25ac7",
      "metadata": {
        "id": "0952990a-b3d6-4da4-9cc6-1ab3a7a25ac7"
      },
      "outputs": [],
      "source": [
        "score = r2_score(y_pred, y_test)"
      ]
    },
    {
      "cell_type": "code",
      "execution_count": 15,
      "id": "f89c3bbd-0a3a-48ac-b1ab-b75dc0c5bcce",
      "metadata": {
        "colab": {
          "base_uri": "https://localhost:8080/",
          "height": 452
        },
        "id": "f89c3bbd-0a3a-48ac-b1ab-b75dc0c5bcce",
        "outputId": "587de3bd-b38b-4de9-d156-ac034b9dc075"
      },
      "outputs": [
        {
          "data": {
            "image/png": "[encoded data removed]",
            "text/plain": [
              "<Figure size 640x480 with 1 Axes>"
            ]
          },
          "metadata": {},
          "output_type": "display_data"
        }
      ],
      "source": [
        "plt.title(f'R2: {str(score)[:5]}')\n",
        "plt.hist(y_pred.reshape(1, -1)[0], bins=100, label='PREDICTION')\n",
        "plt.hist(y_test.reshape(1, -1)[0], bins=100, label='GT')\n",
        "plt.legend()\n",
        "plt.grid();"
      ]
    },
    {
      "cell_type": "markdown",
      "id": "6nKJT7VRlIeU",
      "metadata": {
        "id": "6nKJT7VRlIeU"
      },
      "source": [
        "# Задание 1: Реализация Gradient Descent для модели линейной регрессии"
      ]
    },
    {
      "cell_type": "markdown",
      "id": "7UpV6l4clfwC",
      "metadata": {
        "id": "7UpV6l4clfwC"
      },
      "source": [
        "Ниже представлен шаблон кода, который необходимо дополнить, реализовав все указанные методы, и самостоятельно протестировать корректность решения. Можно (и даже нужно) добавлять свои методы для бОльшей читабельности кода\n",
        "\n",
        "Достаточно будет, чтобы код работал для случая, когда X и y - np.ndarray\n",
        "\n",
        "Внутри класса запрещается использовать сторонние библиотеки, кроме numpy"
      ]
    },
    {
      "cell_type": "code",
      "execution_count": null,
      "id": "ohUWWybdlHYw",
      "metadata": {
        "id": "ohUWWybdlHYw"
      },
      "outputs": [],
      "source": [
        "class LinearRegressorGD:\n",
        "    \"\"\"\n",
        "    Линейная регрессия с использованием Gradient Descent\n",
        "    \"\"\"\n",
        "\n",
        "    def __init__(self, learning_rate=0.01, n_iter=1000):\n",
        "        \"\"\"\n",
        "        Конструктор класса\n",
        "\n",
        "        Параметры:\n",
        "            learning_rate (float): Скорость обучения\n",
        "            n_iter (int): Количество итераций градиентного спуска\n",
        "        \"\"\"\n",
        "        self.learning_rate = learning_rate\n",
        "        self.n_iter = n_iter\n",
        "        pass\n",
        "\n",
        "    def fit(self, X, y):\n",
        "        \"\"\"\n",
        "        Обучение модели на обучающей выборке с использованием\n",
        "        градиентного спуска\n",
        "\n",
        "        Параметры:\n",
        "            X (np.ndarray): Матрица признаков размера (n_samples, n_features)\n",
        "            y (np.ndarray): Вектор таргета длины n_samples\n",
        "        \"\"\"\n",
        "        pass\n",
        "\n",
        "    def predict(self, X):\n",
        "        \"\"\"\n",
        "        Получение предсказаний обученной модели\n",
        "\n",
        "        Параметры:\n",
        "            X (np.ndarray): Матрица признаков\n",
        "\n",
        "        Возвращает:\n",
        "            np.ndarray: Предсказание для каждого элемента из X\n",
        "        \"\"\"\n",
        "        pass\n",
        "\n",
        "    def get_params(self):\n",
        "        \"\"\"\n",
        "        Возвращает обученные параметры модели\n",
        "        \"\"\"\n",
        "        pass\n"
      ]
    },
    {
      "cell_type": "markdown",
      "id": "ebkQuLxTpTmF",
      "metadata": {
        "id": "ebkQuLxTpTmF"
      },
      "source": [
        "# Задание 2: Реализация backpropagation для MLP"
      ]
    },
    {
      "cell_type": "markdown",
      "id": "2G7W8JLzpZRf",
      "metadata": {
        "id": "2G7W8JLzpZRf"
      },
      "source": [
        "Ниже представлен шаблон кода, который необходимо дополнить, реализовав все указанные методы, и самостоятельно протестировать корректность решения. Можно (и даже нужно) добавлять свои методы для бОльшей читабельности кода\n",
        "\n",
        "Достаточно будет, чтобы код работал для случая, когда X и y - np.ndarray\n",
        "\n",
        "В качестве функции активации на внутренних слоях нужно использовать Sigmoid, а на выходе - линейную активацию f(x) = x\n",
        "\n",
        "Внутри класса запрещается использовать сторонние библиотеки, кроме numpy"
      ]
    },
    {
      "cell_type": "code",
      "execution_count": 17,
      "id": "mh30KL1jpZr5",
      "metadata": {
        "id": "mh30KL1jpZr5"
      },
      "outputs": [],
      "source": [
        "class MLPRegressor:\n",
        "    \"\"\"\n",
        "    Многослойный перцептрон (MLP) для задачи регрессии, использующий алгоритм\n",
        "    обратного распространения ошибки\n",
        "    \"\"\"\n",
        "\n",
        "    def __init__(self, hidden_layer_sizes=(100,), learning_rate=0.01, n_iter=100):\n",
        "        \"\"\"\n",
        "        Конструктор класса\n",
        "\n",
        "        Параметры:\n",
        "            hidden_layer_sizes (tuple): Кортеж, определяющий архитектуру\n",
        "        скрытых слоев. Например (100, 10) - два скрытых слоя, размером 100 и 10\n",
        "        нейронов, соответственно\n",
        "            learning_rate (float): Скорость обучения\n",
        "            n_iter (int): Количество итераций градиентного спуска\n",
        "        \"\"\"\n",
        "        self.hidden_layer_sizes = hidden_layer_sizes\n",
        "        self.learning_rate = learning_rate\n",
        "\n",
        "    def forward(self, X):\n",
        "        \"\"\"\n",
        "        Реализация forward pass\n",
        "\n",
        "        Параметры:\n",
        "            X (np.ndarray): Матрица признаков размера (n_samples, n_features)\n",
        "\n",
        "        Возвращает:\n",
        "            np.ndarray: Предсказания модели\n",
        "        \"\"\"\n",
        "        pass\n",
        "\n",
        "    def backward(self, X, y):\n",
        "        \"\"\"\n",
        "        Реализация backward pass\n",
        "\n",
        "        Возвращает:\n",
        "            X (np.ndarray): Матрица признаков размера (n_samples, n_features)\n",
        "            y (np.ndarray): Вектор таргета длины n_samples\n",
        "        \"\"\"\n",
        "        pass\n",
        "\n",
        "    def fit(self, X, y):\n",
        "        \"\"\"\n",
        "        Обучение модели\n",
        "\n",
        "        Параметры:\n",
        "            X (np.ndarray): Матрица признаков размера (n_samples, n_features)\n",
        "            y (np.ndarray): Вектор таргета длины n_samples\n",
        "        \"\"\"\n",
        "        pass\n",
        "\n",
        "    def predict(self, X):\n",
        "        \"\"\"\n",
        "        Получение предсказаний обученной модели\n",
        "\n",
        "        Параметры:\n",
        "            X (np.ndarray): Матрица признаков\n",
        "\n",
        "        Возвращает:\n",
        "            np.ndarray: Предсказание для каждого элемента из X\n",
        "        \"\"\"\n",
        "        pass\n"
      ]
    }
  ],
  "metadata": {
    "colab": {
      "provenance": []
    },
    "kernelspec": {
      "display_name": "Python 3",
      "language": "python",
      "name": "python3"
    },
    "language_info": {
      "codemirror_mode": {
        "name": "ipython",
        "version": 3
      },
      "file_extension": ".py",
      "mimetype": "text/x-python",
      "name": "python",
      "nbconvert_exporter": "python",
      "pygments_lexer": "ipython3",
      "version": "3.9.6"
    }
  },
  "nbformat": 4,
  "nbformat_minor": 5
}
